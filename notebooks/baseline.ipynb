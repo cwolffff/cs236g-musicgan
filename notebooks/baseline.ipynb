{
 "cells": [
  {
   "cell_type": "code",
   "execution_count": 1,
   "metadata": {},
   "outputs": [],
   "source": [
    "%load_ext autoreload\n",
    "%autoreload 2"
   ]
  },
  {
   "cell_type": "markdown",
   "metadata": {},
   "source": [
    "This is the GAN training script. It also includes code for creating the pianoroll dataset. Much of this script is based on https://colab.research.google.com/github/salu133445/ismir2019tutorial/blob/main/musegan.ipynb."
   ]
  },
  {
   "cell_type": "code",
   "execution_count": 1,
   "metadata": {},
   "outputs": [],
   "source": [
    "import csv\n",
    "import itertools\n",
    "import pickle\n",
    "import random\n",
    "import os\n",
    "import sys\n",
    "from dataclasses import dataclass\n",
    "\n",
    "import numpy as np\n",
    "import pretty_midi\n",
    "import pypianoroll\n",
    "import torch\n",
    "from matplotlib import pyplot as plt\n",
    "from pprint import pprint\n",
    "from tqdm import tqdm\n",
    "from IPython.display import clear_output\n",
    "from ipywidgets import interact, IntSlider\n",
    "from livelossplot import PlotLosses\n",
    "from livelossplot.outputs import MatplotlibPlot"
   ]
  },
  {
   "cell_type": "markdown",
   "metadata": {},
   "source": [
    "First, let's visualize one of the midi files in the training set."
   ]
  },
  {
   "cell_type": "code",
   "execution_count": 4,
   "metadata": {},
   "outputs": [],
   "source": [
    "m = pypianoroll.load(\"../data/001/001.npz\")\n",
    "m.trim(start=2 * 96, end=4 * 96);"
   ]
  },
  {
   "cell_type": "code",
   "execution_count": 8,
   "metadata": {},
   "outputs": [
    {
     "data": {
      "image/png": "[encoded data removed]",
      "text/plain": [
       "<Figure size 1152x576 with 1 Axes>"
      ]
     },
     "metadata": {
      "needs_background": "light"
     },
     "output_type": "display_data"
    }
   ],
   "source": [
    "axs = m.plot()\n",
    "plt.gcf().set_size_inches((16, 8))\n",
    "for ax in axs:\n",
    "    for x in range(96, 2 * 96, 96):     \n",
    "        ax.axvline(x - 0.5, color='k', linestyle='-', linewidth=1)\n",
    "plt.show()"
   ]
  },
  {
   "cell_type": "code",
   "execution_count": 41,
   "metadata": {},
   "outputs": [],
   "source": [
    "ROOT_DIR = \"../data\"\n",
    "\n",
    "midi_paths = []\n",
    "for song_idx in sorted(os.listdir(ROOT_DIR)):\n",
    "    song_dir = os.path.join(ROOT_DIR, song_idx)\n",
    "    if not os.path.isdir(song_dir):\n",
    "        continue\n",
    "    midi_path = os.path.join(song_dir, f\"{song_idx}.npz\")\n",
    "    midi_paths.append(midi_path)"
   ]
  },
  {
   "cell_type": "code",
   "execution_count": 63,
   "metadata": {},
   "outputs": [],
   "source": [
    "CUDA = torch.cuda.is_available()\n",
    "\n",
    "BEAT_RESOLUTION = 4\n",
    "MEASURE_RESOLUTION = BEAT_RESOLUTION * 4\n",
    "LOWEST_PITCH = 0  # TODO\n",
    "N_TRACKS = 1\n",
    "N_PITCHES = 128  # TODO\n",
    "N_SAMPLES_PER_SONG = 32  # number of samples to extract from each song in the datset\n",
    "N_MEASURES = 1  # number of measures per sample\n",
    "\n",
    "# Training\n",
    "BATCH_SIZE = 16\n",
    "LATENT_DIM = 128\n",
    "N_STEPS = 20000\n",
    "\n",
    "# Sampling\n",
    "SAMPLE_INTERVAL = 100  # interval to run the sampler (in step)\n",
    "N_SAMPLES = 4"
   ]
  },
  {
   "cell_type": "code",
   "execution_count": 43,
   "metadata": {},
   "outputs": [
    {
     "name": "stderr",
     "output_type": "stream",
     "text": [
      "100%|██████████| 909/909 [00:12<00:00, 71.93it/s]\n"
     ]
    }
   ],
   "source": [
    "data = []\n",
    "# Iterate over all the songs in the ID list\n",
    "for midi_path in tqdm(midi_paths):\n",
    "    # Load the multitrack as a pypianoroll.Multitrack instance\n",
    "    multitrack = pypianoroll.load(midi_path)\n",
    "    # Binarize the pianorolls\n",
    "    multitrack.binarize()\n",
    "    # Downsample the pianorolls (shape: n_timesteps x n_pitches)\n",
    "    multitrack.set_resolution(BEAT_RESOLUTION)\n",
    "    # Stack the pianoroll (shape: n_tracks x n_timesteps x n_pitches)\n",
    "    pianoroll = (multitrack.stack() > 0)\n",
    "    # Get the target pitch range only\n",
    "    pianoroll = pianoroll[:, :, LOWEST_PITCH:LOWEST_PITCH + N_PITCHES]\n",
    "    # Calculate the total measures\n",
    "    n_total_measures = multitrack.get_max_length() // MEASURE_RESOLUTION\n",
    "    candidate = n_total_measures - N_MEASURES\n",
    "    target_n_samples = min(n_total_measures // N_MEASURES - 1, N_SAMPLES_PER_SONG)\n",
    "    # Randomly select a number of phrases from the multitrack pianoroll\n",
    "    for idx in np.random.choice(candidate, target_n_samples, False):\n",
    "        start = idx * MEASURE_RESOLUTION\n",
    "        end = (idx + N_MEASURES) * MEASURE_RESOLUTION\n",
    "        # Skip the samples where some track(s) has too few notes\n",
    "        if (pianoroll.sum(axis=(1, 2)) < 10).any():\n",
    "            continue\n",
    "        data.append(pianoroll[:, start:end])"
   ]
  },
  {
   "cell_type": "code",
   "execution_count": 44,
   "metadata": {},
   "outputs": [
    {
     "name": "stdout",
     "output_type": "stream",
     "text": [
      "Successfully collect 28068 samples from 909 songs\n",
      "Data shape : (28068, 1, 32, 128)\n"
     ]
    }
   ],
   "source": [
    "# Stack all the collected pianoroll segments into one big array\n",
    "random.shuffle(data)\n",
    "data = np.stack(data)\n",
    "print(f\"Successfully collect {len(data)} samples from {len(midi_paths)} songs\")\n",
    "print(f\"Data shape : {data.shape}\")"
   ]
  },
  {
   "cell_type": "code",
   "execution_count": 46,
   "metadata": {},
   "outputs": [
    {
     "data": {
      "image/png": "[encoded data removed]",
      "text/plain": [
       "<Figure size 1152x576 with 1 Axes>"
      ]
     },
     "metadata": {
      "needs_background": "light"
     },
     "output_type": "display_data"
    }
   ],
   "source": [
    "TEMPO = 100\n",
    "\n",
    "# Visualize some of the training samples\n",
    "tempo_array = np.full((4 * 4 * MEASURE_RESOLUTION, 1), TEMPO)\n",
    "tracks = []\n",
    "pianoroll = np.pad(np.concatenate(data[:4], 1)[0], ((0, 0), (LOWEST_PITCH, 128 - LOWEST_PITCH - N_PITCHES)))\n",
    "tracks.append(pypianoroll.Track(name=\"MAIN\", program=0, is_drum=False, pianoroll=pianoroll))\n",
    "multitrack = pypianoroll.Multitrack(tracks=tracks, tempo=tempo_array, resolution=BEAT_RESOLUTION)\n",
    "axs = multitrack.plot()\n",
    "plt.gcf().set_size_inches((16, 8))\n",
    "for ax in axs:\n",
    "    for x in range(MEASURE_RESOLUTION, 2 * 4 * MEASURE_RESOLUTION, MEASURE_RESOLUTION):\n",
    "        if x % MEASURE_RESOLUTION == 0:\n",
    "            ax.axvline(x - 0.5, color='k')\n",
    "        else:\n",
    "            ax.axvline(x - 0.5, color='k', linestyle='-', linewidth=1)\n",
    "plt.show()"
   ]
  },
  {
   "cell_type": "code",
   "execution_count": 48,
   "metadata": {},
   "outputs": [],
   "source": [
    "tracks = []\n",
    "pianoroll = np.pad(np.concatenate(data[:4], 1)[0], ((0, 0), (LOWEST_PITCH, 128 - LOWEST_PITCH - N_PITCHES)))\n",
    "tracks.append(pypianoroll.BinaryTrack(name=\"MAIN\", program=0, is_drum=False, pianoroll=pianoroll))\n",
    "multitrack = pypianoroll.Multitrack(tracks=tracks, tempo=tempo_array, resolution=BEAT_RESOLUTION)"
   ]
  },
  {
   "cell_type": "markdown",
   "metadata": {},
   "source": [
    "## Dataset"
   ]
  },
  {
   "cell_type": "code",
   "execution_count": 49,
   "metadata": {},
   "outputs": [],
   "source": [
    "data = torch.as_tensor(data, dtype=torch.float32)\n",
    "dataset = torch.utils.data.TensorDataset(data)\n",
    "data_loader = torch.utils.data.DataLoader(\n",
    "    dataset,\n",
    "    batch_size=BATCH_SIZE,\n",
    "    drop_last=True,\n",
    "    shuffle=True,\n",
    ")"
   ]
  },
  {
   "cell_type": "markdown",
   "metadata": {},
   "source": [
    "## Model definitions"
   ]
  },
  {
   "cell_type": "code",
   "execution_count": 50,
   "metadata": {},
   "outputs": [],
   "source": [
    "class GeneratorBlock(torch.nn.Module):\n",
    "    def __init__(self, in_dim, out_dim, kernel, stride):\n",
    "        super().__init__()\n",
    "        self.transconv = torch.nn.ConvTranspose3d(in_dim, out_dim, kernel, stride)\n",
    "        self.batchnorm = torch.nn.BatchNorm3d(out_dim)\n",
    "    \n",
    "    def forward(self, x):\n",
    "        x = self.transconv(x)\n",
    "        x = self.batchnorm(x)\n",
    "        return torch.nn.functional.relu(x)"
   ]
  },
  {
   "cell_type": "code",
   "execution_count": 51,
   "metadata": {},
   "outputs": [],
   "source": [
    "class Generator(torch.nn.Module):\n",
    "    \"\"\"A convolutional neural network (CNN) based generator. The generator takes\n",
    "    as input a latent vector and outputs a fake sample.\"\"\"\n",
    "    def __init__(self):\n",
    "        super().__init__()\n",
    "        self.transconv0 = GeneratorBlock(LATENT_DIM, 256, (4, 1, 1), (4, 1, 1))\n",
    "        self.transconv1 = GeneratorBlock(256, 128, (1, 4, 1), (1, 4, 1))\n",
    "        self.transconv2 = GeneratorBlock(128, 64, (1, 1, 4), (1, 1, 4))\n",
    "        self.transconv3 = GeneratorBlock(64, 32, (1, 1, 5), (1, 1, 1))\n",
    "        self.transconv4 = GeneratorBlock(32, 16, (1, 1, 1), (1, 1, 1))\n",
    "\n",
    "    def forward(self, x):\n",
    "        x = x.view(-1, LATENT_DIM, 1, 1, 1)\n",
    "        x = self.transconv0(x)\n",
    "        x = self.transconv1(x)\n",
    "        x = self.transconv2(x)\n",
    "        x = self.transconv3(x)\n",
    "        x = self.transconv4(x)\n",
    "        x = x.view(-1, 1, N_MEASURES * MEASURE_RESOLUTION, N_PITCHES)\n",
    "        return x"
   ]
  },
  {
   "cell_type": "code",
   "execution_count": 52,
   "metadata": {},
   "outputs": [],
   "source": [
    "class LayerNorm(torch.nn.Module):\n",
    "    \"\"\"An implementation of Layer normalization that does not require size\n",
    "    information. Copied from https://github.com/pytorch/pytorch/issues/1959.\"\"\"\n",
    "    def __init__(self, n_features, eps=1e-5, affine=True):\n",
    "        super().__init__()\n",
    "        self.n_features = n_features\n",
    "        self.affine = affine\n",
    "        self.eps = eps\n",
    "        if self.affine:\n",
    "            self.gamma = torch.nn.Parameter(torch.Tensor(n_features).uniform_())\n",
    "            self.beta = torch.nn.Parameter(torch.zeros(n_features))\n",
    "\n",
    "    def forward(self, x):\n",
    "        shape = [-1] + [1] * (x.dim() - 1)\n",
    "        mean = x.view(x.size(0), -1).mean(1).view(*shape)\n",
    "        std = x.view(x.size(0), -1).std(1).view(*shape)\n",
    "        y = (x - mean) / (std + self.eps)\n",
    "        if self.affine:\n",
    "            shape = [1, -1] + [1] * (x.dim() - 2)\n",
    "            y = self.gamma.view(*shape) * y + self.beta.view(*shape)\n",
    "        return y"
   ]
  },
  {
   "cell_type": "code",
   "execution_count": 53,
   "metadata": {},
   "outputs": [],
   "source": [
    "class DiscriminatorBlock(torch.nn.Module):\n",
    "    def __init__(self, in_dim, out_dim, kernel, stride):\n",
    "        super().__init__()\n",
    "        self.transconv = torch.nn.Conv3d(in_dim, out_dim, kernel, stride)\n",
    "        self.layernorm = LayerNorm(out_dim)\n",
    "    \n",
    "    def forward(self, x):\n",
    "        x = self.transconv(x)\n",
    "        x = self.layernorm(x)\n",
    "        return torch.nn.functional.leaky_relu(x)"
   ]
  },
  {
   "cell_type": "code",
   "execution_count": 54,
   "metadata": {},
   "outputs": [],
   "source": [
    "class Discriminator(torch.nn.Module):\n",
    "    \"\"\"A convolutional neural network (CNN) based discriminator. The\n",
    "    discriminator takes as input either a real sample (in the training data) or\n",
    "    a fake sample (generated by the generator) and outputs a scalar indicating\n",
    "    its authentity.\n",
    "    \"\"\"\n",
    "    def __init__(self):\n",
    "        super().__init__()\n",
    "        self.conv0 = DiscriminatorBlock(1, 16, (1, 1, 12), (1, 1, 12))\n",
    "        self.conv1 = DiscriminatorBlock(16, 16, (1, 4, 1), (1, 4, 1))\n",
    "        self.conv2 = DiscriminatorBlock(16, 64, (1, 1, 3), (1, 1, 1))\n",
    "        self.conv3 = DiscriminatorBlock(64, 64, (1, 1, 4), (1, 1, 4))\n",
    "        self.conv4 = DiscriminatorBlock(64, 128, (1, 4, 1), (1, 4, 1))\n",
    "        self.conv5 = DiscriminatorBlock(128, 128, (1, 1, 1), (1, 1, 1)) # originally (2, 1, 1), (1, 1, 1)\n",
    "        self.conv6 = DiscriminatorBlock(128, 256, (1, 1, 1), (3, 1, 2)) # originally (3, 1, 1), (3, 1, 1)\n",
    "        self.dense = torch.nn.Linear(256, 1)\n",
    "\n",
    "    def forward(self, x):\n",
    "        x = x.view(-1, N_TRACKS, N_MEASURES, MEASURE_RESOLUTION, N_PITCHES)\n",
    "        x = self.conv0(x)\n",
    "        x = self.conv1(x)\n",
    "        x = self.conv2(x)\n",
    "        x = self.conv3(x)\n",
    "        x = self.conv4(x)\n",
    "        x = self.conv5(x)\n",
    "        x = self.conv6(x)\n",
    "        x = x.view(-1, 256)\n",
    "        x = self.dense(x)\n",
    "        return x"
   ]
  },
  {
   "cell_type": "markdown",
   "metadata": {},
   "source": [
    "## Training functions"
   ]
  },
  {
   "cell_type": "code",
   "execution_count": 55,
   "metadata": {},
   "outputs": [],
   "source": [
    "def compute_gradient_penalty(discriminator, real_samples, fake_samples):\n",
    "    \"\"\"Compute the gradient penalty for regularization. Intuitively, the\n",
    "    gradient penalty help stablize the magnitude of the gradients that the\n",
    "    discriminator provides to the generator, and thus help stablize the training\n",
    "    of the generator.\"\"\"\n",
    "    # Get random interpolations between real and fake samples\n",
    "    alpha = torch.rand(real_samples.size(0), 1, 1, 1)\n",
    "    if torch.cuda.is_available():\n",
    "        alpha = alpha.cuda()\n",
    "    interpolates = (alpha * real_samples + ((1 - alpha) * fake_samples))\n",
    "    interpolates = interpolates.requires_grad_(True)\n",
    "    # Get the discriminator output for the interpolations\n",
    "    d_interpolates = discriminator(interpolates)\n",
    "    # Get gradients w.r.t. the interpolations\n",
    "    fake = torch.ones(real_samples.size(0), 1)\n",
    "    if torch.cuda.is_available():\n",
    "        fake = fake.cuda()\n",
    "    gradients = torch.autograd.grad(\n",
    "        outputs=d_interpolates,\n",
    "        inputs=interpolates,\n",
    "        grad_outputs=fake,\n",
    "        create_graph=True,\n",
    "        retain_graph=True,\n",
    "        only_inputs=True\n",
    "    )[0]\n",
    "    # Compute gradient penalty\n",
    "    gradients = gradients.view(gradients.size(0), -1)\n",
    "    gradient_penalty = ((gradients.norm(2, dim=1) - 1) ** 2).mean()\n",
    "    return gradient_penalty"
   ]
  },
  {
   "cell_type": "code",
   "execution_count": 56,
   "metadata": {},
   "outputs": [],
   "source": [
    "def train_one_step(d_optimizer, g_optimizer, real_samples):\n",
    "    \"\"\"Train the networks for one step.\"\"\"\n",
    "    # Sample from the lantent distribution\n",
    "    latent = torch.randn(BATCH_SIZE, LATENT_DIM)\n",
    "\n",
    "    # Transfer data to GPU\n",
    "    if torch.cuda.is_available():\n",
    "        real_samples = real_samples.cuda()\n",
    "        latent = latent.cuda()\n",
    "    \n",
    "    # === Train the discriminator ===\n",
    "    # Reset cached gradients to zero\n",
    "    d_optimizer.zero_grad()\n",
    "    # Get discriminator outputs for the real samples\n",
    "    prediction_real = discriminator(real_samples)\n",
    "    # Compute the loss function\n",
    "    # d_loss_real = torch.mean(torch.nn.functional.relu(1. - prediction_real))\n",
    "    d_loss_real = -torch.mean(prediction_real)\n",
    "    # Backpropagate the gradients\n",
    "    d_loss_real.backward()\n",
    "    \n",
    "    # Generate fake samples with the generator\n",
    "    fake_samples = generator(latent)\n",
    "    # Get discriminator outputs for the fake samples\n",
    "    prediction_fake_d = discriminator(fake_samples.detach())\n",
    "    # Compute the loss function\n",
    "    # d_loss_fake = torch.mean(torch.nn.functional.relu(1. + prediction_fake_d))\n",
    "    d_loss_fake = torch.mean(prediction_fake_d)\n",
    "    # Backpropagate the gradients\n",
    "    d_loss_fake.backward()\n",
    "\n",
    "    # Compute gradient penalty\n",
    "    gradient_penalty = 10.0 * compute_gradient_penalty(\n",
    "        discriminator, real_samples.data, fake_samples.data)\n",
    "    # Backpropagate the gradients\n",
    "    gradient_penalty.backward()\n",
    "\n",
    "    # Update the weights\n",
    "    d_optimizer.step()\n",
    "    \n",
    "    # === Train the generator ===\n",
    "    # Reset cached gradients to zero\n",
    "    g_optimizer.zero_grad()\n",
    "    # Get discriminator outputs for the fake samples\n",
    "    prediction_fake_g = discriminator(fake_samples)\n",
    "    # Compute the loss function\n",
    "    g_loss = -torch.mean(prediction_fake_g)\n",
    "    # Backpropagate the gradients\n",
    "    g_loss.backward()\n",
    "    # Update the weights\n",
    "    g_optimizer.step()\n",
    "\n",
    "    return d_loss_real + d_loss_fake, g_loss"
   ]
  },
  {
   "cell_type": "markdown",
   "metadata": {},
   "source": [
    "## Training setup"
   ]
  },
  {
   "cell_type": "code",
   "execution_count": 57,
   "metadata": {},
   "outputs": [
    {
     "name": "stdout",
     "output_type": "stream",
     "text": [
      "Number of parameters in G: 307152\n",
      "Number of parameters in D: 104865\n"
     ]
    }
   ],
   "source": [
    "# Create data loader\n",
    "# data_loader = get_data_loader()\n",
    "\n",
    "# Create neural networks\n",
    "discriminator = Discriminator()\n",
    "generator = Generator()\n",
    "print(\"Number of parameters in G: {}\".format(\n",
    "    sum(p.numel() for p in generator.parameters() if p.requires_grad)))\n",
    "print(\"Number of parameters in D: {}\".format(\n",
    "    sum(p.numel() for p in discriminator.parameters() if p.requires_grad)))\n",
    "\n",
    "# Create optimizers\n",
    "d_optimizer = torch.optim.Adam(\n",
    "    discriminator.parameters(), lr=0.001,  betas=(0.5, 0.9))\n",
    "g_optimizer = torch.optim.Adam(\n",
    "    generator.parameters(), lr=0.001, betas=(0.5, 0.9))\n",
    "\n",
    "# Prepare the inputs for the sampler, which wil run during the training\n",
    "sample_latent = torch.randn(N_SAMPLES, LATENT_DIM)\n",
    "\n",
    "# Transfer the neural nets and samples to GPU\n",
    "if torch.cuda.is_available():\n",
    "    discriminator = discriminator.cuda()\n",
    "    generator = generator.cuda()\n",
    "    sample_latent = sample_latent.cuda()\n",
    "\n",
    "# Create an empty dictionary to sotre history samples\n",
    "history_samples = {}\n",
    "\n",
    "# Create a LiveLoss logger instance for monitoring\n",
    "liveloss = PlotLosses(outputs=[MatplotlibPlot(cell_size=(6,2))])\n",
    "\n",
    "# Initialize step\n",
    "step = 0"
   ]
  },
  {
   "cell_type": "code",
   "execution_count": 58,
   "metadata": {},
   "outputs": [
    {
     "name": "stdout",
     "output_type": "stream",
     "text": [
      "torch.Size([2, 1, 32, 128])\n"
     ]
    }
   ],
   "source": [
    "print(generator(sample_latent).shape)"
   ]
  },
  {
   "cell_type": "markdown",
   "metadata": {},
   "source": [
    "## Training"
   ]
  },
  {
   "cell_type": "code",
   "execution_count": 60,
   "metadata": {},
   "outputs": [],
   "source": [
    "EXP_NAME = \"tmp-01\"\n",
    "EXP_DIR = os.path.join(\"../save\", EXP_NAME)\n",
    "os.makedirs(EXP_DIR)"
   ]
  },
  {
   "cell_type": "code",
   "execution_count": 61,
   "metadata": {},
   "outputs": [],
   "source": [
    "def save_state(save_dir, step, gen, disc, gen_opt, disc_opt):\n",
    "    torch.save(gen.state_dict(), os.path.join(save_dir, f\"gen-{step}.pt\"))\n",
    "    torch.save(disc.state_dict(), os.path.join(save_dir, f\"disc-{step}.pt\"))\n",
    "    torch.save(gen_opt.state_dict(), os.path.join(save_dir, f\"gen_opt-{step}.pt\"))\n",
    "    torch.save(disc_opt.state_dict(), os.path.join(save_dir, f\"disc_opt-{step}.pt\"))"
   ]
  },
  {
   "cell_type": "code",
   "execution_count": 62,
   "metadata": {},
   "outputs": [
    {
     "ename": "RuntimeError",
     "evalue": "The size of tensor a (16) must match the size of tensor b (8) at non-singleton dimension 0",
     "output_type": "error",
     "traceback": [
      "\u001b[0;31m---------------------------------------------------------------------------\u001b[0m",
      "\u001b[0;31mRuntimeError\u001b[0m                              Traceback (most recent call last)",
      "\u001b[0;32m<ipython-input-62-317d4323d12c>\u001b[0m in \u001b[0;36m<module>\u001b[0;34m\u001b[0m\n\u001b[1;32m     14\u001b[0m         \u001b[0;31m# Train the neural networks\u001b[0m\u001b[0;34m\u001b[0m\u001b[0;34m\u001b[0m\u001b[0;34m\u001b[0m\u001b[0m\n\u001b[1;32m     15\u001b[0m         \u001b[0mgenerator\u001b[0m\u001b[0;34m.\u001b[0m\u001b[0mtrain\u001b[0m\u001b[0;34m(\u001b[0m\u001b[0;34m)\u001b[0m\u001b[0;34m\u001b[0m\u001b[0;34m\u001b[0m\u001b[0m\n\u001b[0;32m---> 16\u001b[0;31m         \u001b[0md_loss\u001b[0m\u001b[0;34m,\u001b[0m \u001b[0mg_loss\u001b[0m \u001b[0;34m=\u001b[0m \u001b[0mtrain_one_step\u001b[0m\u001b[0;34m(\u001b[0m\u001b[0md_optimizer\u001b[0m\u001b[0;34m,\u001b[0m \u001b[0mg_optimizer\u001b[0m\u001b[0;34m,\u001b[0m \u001b[0mreal_samples\u001b[0m\u001b[0;34m[\u001b[0m\u001b[0;36m0\u001b[0m\u001b[0;34m]\u001b[0m\u001b[0;34m)\u001b[0m\u001b[0;34m\u001b[0m\u001b[0;34m\u001b[0m\u001b[0m\n\u001b[0m\u001b[1;32m     17\u001b[0m \u001b[0;34m\u001b[0m\u001b[0m\n\u001b[1;32m     18\u001b[0m         \u001b[0;31m# Record smoothened loss values to LiveLoss logger\u001b[0m\u001b[0;34m\u001b[0m\u001b[0;34m\u001b[0m\u001b[0;34m\u001b[0m\u001b[0m\n",
      "\u001b[0;32m<ipython-input-56-e3618c135c51>\u001b[0m in \u001b[0;36mtrain_one_step\u001b[0;34m(d_optimizer, g_optimizer, real_samples)\u001b[0m\n\u001b[1;32m     32\u001b[0m     \u001b[0;31m# Compute gradient penalty\u001b[0m\u001b[0;34m\u001b[0m\u001b[0;34m\u001b[0m\u001b[0;34m\u001b[0m\u001b[0m\n\u001b[1;32m     33\u001b[0m     gradient_penalty = 10.0 * compute_gradient_penalty(\n\u001b[0;32m---> 34\u001b[0;31m         discriminator, real_samples.data, fake_samples.data)\n\u001b[0m\u001b[1;32m     35\u001b[0m     \u001b[0;31m# Backpropagate the gradients\u001b[0m\u001b[0;34m\u001b[0m\u001b[0;34m\u001b[0m\u001b[0;34m\u001b[0m\u001b[0m\n\u001b[1;32m     36\u001b[0m     \u001b[0mgradient_penalty\u001b[0m\u001b[0;34m.\u001b[0m\u001b[0mbackward\u001b[0m\u001b[0;34m(\u001b[0m\u001b[0;34m)\u001b[0m\u001b[0;34m\u001b[0m\u001b[0;34m\u001b[0m\u001b[0m\n",
      "\u001b[0;32m<ipython-input-55-84a0ae3f883f>\u001b[0m in \u001b[0;36mcompute_gradient_penalty\u001b[0;34m(discriminator, real_samples, fake_samples)\u001b[0m\n\u001b[1;32m      8\u001b[0m     \u001b[0;32mif\u001b[0m \u001b[0mtorch\u001b[0m\u001b[0;34m.\u001b[0m\u001b[0mcuda\u001b[0m\u001b[0;34m.\u001b[0m\u001b[0mis_available\u001b[0m\u001b[0;34m(\u001b[0m\u001b[0;34m)\u001b[0m\u001b[0;34m:\u001b[0m\u001b[0;34m\u001b[0m\u001b[0;34m\u001b[0m\u001b[0m\n\u001b[1;32m      9\u001b[0m         \u001b[0malpha\u001b[0m \u001b[0;34m=\u001b[0m \u001b[0malpha\u001b[0m\u001b[0;34m.\u001b[0m\u001b[0mcuda\u001b[0m\u001b[0;34m(\u001b[0m\u001b[0;34m)\u001b[0m\u001b[0;34m\u001b[0m\u001b[0;34m\u001b[0m\u001b[0m\n\u001b[0;32m---> 10\u001b[0;31m     \u001b[0minterpolates\u001b[0m \u001b[0;34m=\u001b[0m \u001b[0;34m(\u001b[0m\u001b[0malpha\u001b[0m \u001b[0;34m*\u001b[0m \u001b[0mreal_samples\u001b[0m \u001b[0;34m+\u001b[0m \u001b[0;34m(\u001b[0m\u001b[0;34m(\u001b[0m\u001b[0;36m1\u001b[0m \u001b[0;34m-\u001b[0m \u001b[0malpha\u001b[0m\u001b[0;34m)\u001b[0m \u001b[0;34m*\u001b[0m \u001b[0mfake_samples\u001b[0m\u001b[0;34m)\u001b[0m\u001b[0;34m)\u001b[0m\u001b[0;34m\u001b[0m\u001b[0;34m\u001b[0m\u001b[0m\n\u001b[0m\u001b[1;32m     11\u001b[0m     \u001b[0minterpolates\u001b[0m \u001b[0;34m=\u001b[0m \u001b[0minterpolates\u001b[0m\u001b[0;34m.\u001b[0m\u001b[0mrequires_grad_\u001b[0m\u001b[0;34m(\u001b[0m\u001b[0;32mTrue\u001b[0m\u001b[0;34m)\u001b[0m\u001b[0;34m\u001b[0m\u001b[0;34m\u001b[0m\u001b[0m\n\u001b[1;32m     12\u001b[0m     \u001b[0;31m# Get the discriminator output for the interpolations\u001b[0m\u001b[0;34m\u001b[0m\u001b[0;34m\u001b[0m\u001b[0;34m\u001b[0m\u001b[0m\n",
      "\u001b[0;31mRuntimeError\u001b[0m: The size of tensor a (16) must match the size of tensor b (8) at non-singleton dimension 0"
     ]
    }
   ],
   "source": [
    "# Create a progress bar instance for monitoring\n",
    "# progress_bar = tqdm(total=N_STEPS, initial=step, ncols=80, mininterval=1)\n",
    "LOG_EVERY_N = 100\n",
    "SAVE_EVERY_N = 5000\n",
    "LISTEN_EVERY_N = 1000\n",
    "\n",
    "g_losses = []\n",
    "d_losses = []\n",
    "\n",
    "# Start iterations\n",
    "while step < N_STEPS + 1:\n",
    "    # Iterate over the dataset\n",
    "    for real_samples in data_loader:\n",
    "        # Train the neural networks\n",
    "        generator.train()\n",
    "        d_loss, g_loss = train_one_step(d_optimizer, g_optimizer, real_samples[0])\n",
    "\n",
    "        # Record smoothened loss values to LiveLoss logger\n",
    "        if step > 0:\n",
    "            running_d_loss = 0.05 * d_loss + 0.95 * running_d_loss\n",
    "            running_g_loss = 0.05 * g_loss + 0.95 * running_g_loss\n",
    "        else:\n",
    "            running_d_loss, running_g_loss = 0.0, 0.0\n",
    "        # liveloss.update({'negative_critic_loss': -running_d_loss})\n",
    "        liveloss.update({'d_loss': running_d_loss, 'g_loss': running_g_loss})\n",
    "        g_losses.append(running_d_loss)\n",
    "        d_losses.append(running_g_loss)\n",
    "        \n",
    "        # Update losses to progress bar\n",
    "        # progress_bar.set_description_str(\n",
    "        #     \"(d_loss={: 8.6f}, g_loss={: 8.6f})\".format(d_loss, g_loss))\n",
    "        \n",
    "        if step % SAMPLE_INTERVAL == 0:\n",
    "            # Get generated samples\n",
    "            generator.eval()\n",
    "            samples = generator(sample_latent).cpu().detach().numpy()\n",
    "            history_samples[step] = samples\n",
    "\n",
    "            # Display loss curves\n",
    "            clear_output(True)\n",
    "            if step > 0:\n",
    "                liveloss.send()\n",
    "            \n",
    "            # Display generated samples\n",
    "            samples = samples.transpose(1, 0, 2, 3).reshape(N_TRACKS, -1, N_PITCHES)\n",
    "            pianoroll = np.pad(\n",
    "                samples[0].squeeze() > 0.5,\n",
    "                ((0, 0), (LOWEST_PITCH, 128 - LOWEST_PITCH - N_PITCHES))\n",
    "            )\n",
    "            tracks = [\n",
    "                pypianoroll.BinaryTrack(\n",
    "                    name=\"MAIN\",\n",
    "                    program=0,\n",
    "                    is_drum=False,\n",
    "                    pianoroll=pianoroll\n",
    "                )\n",
    "            ]\n",
    "            m = pypianoroll.Multitrack(\n",
    "                tracks=tracks,\n",
    "                tempo=tempo_array,\n",
    "                resolution=BEAT_RESOLUTION\n",
    "            )\n",
    "            axs = m.plot()\n",
    "            plt.gcf().set_size_inches((16, 8))\n",
    "            for ax in axs:\n",
    "                for x in range(\n",
    "                    MEASURE_RESOLUTION,\n",
    "                    MEASURE_RESOLUTION * N_MEASURES,\n",
    "                    MEASURE_RESOLUTION\n",
    "                ):\n",
    "                    if x % (MEASURE_RESOLUTION * 4) == 0:\n",
    "                        ax.axvline(x - 0.5, color='k')\n",
    "                    else:\n",
    "                        ax.axvline(x - 0.5, color='k', linestyle='-', linewidth=1)\n",
    "            plt.show()\n",
    "        \n",
    "        if step % LOG_EVERY_N == 0:\n",
    "            print(f\"Step {step} \\t D-loss: {d_loss:.6f} \\t G-loss: {g_loss:.6f}\")\n",
    "        \n",
    "        if step % SAVE_EVERY_N == 0:\n",
    "            save_state(EXP_DIR, step + 1, generator, discriminator, g_optimizer, d_optimizer)\n",
    "        \n",
    "        if step % LISTEN_EVERY_N == 0:\n",
    "            m.to_pretty_midi().write(os.path.join(EXP_DIR, f\"sample-{step}.mid\"))\n",
    "            plt.savefig(os.path.join(EXP_DIR, f\"sample_output_{step}.png\"))\n",
    "            \n",
    "        step += 1\n",
    "        # progress_bar.update(1)\n",
    "        if step >= N_STEPS:\n",
    "            break"
   ]
  },
  {
   "cell_type": "code",
   "execution_count": null,
   "metadata": {},
   "outputs": [],
   "source": [
    "print(samples[0].shape, real_samples[0][0].squeeze().shape)"
   ]
  },
  {
   "cell_type": "code",
   "execution_count": null,
   "metadata": {},
   "outputs": [],
   "source": []
  },
  {
   "cell_type": "code",
   "execution_count": null,
   "metadata": {},
   "outputs": [],
   "source": []
  }
 ],
 "metadata": {
  "kernelspec": {
   "display_name": "Python [conda env:pytorch_p36]",
   "language": "python",
   "name": "conda-env-pytorch_p36-py"
  },
  "language_info": {
   "codemirror_mode": {
    "name": "ipython",
    "version": 3
   },
   "file_extension": ".py",
   "mimetype": "text/x-python",
   "name": "python",
   "nbconvert_exporter": "python",
   "pygments_lexer": "ipython3",
   "version": "3.6.10"
  }
 },
 "nbformat": 4,
 "nbformat_minor": 2
}
