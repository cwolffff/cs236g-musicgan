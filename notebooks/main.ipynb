{
 "cells": [
  {
   "cell_type": "code",
   "execution_count": 5,
   "metadata": {},
   "outputs": [],
   "source": [
    "%load_ext autoreload\n",
    "%autoreload 2"
   ]
  },
  {
   "cell_type": "markdown",
   "metadata": {},
   "source": [
    "This is the GAN training script. It also includes code for creating the pianoroll dataset. Much of this notebook is based on https://colab.research.google.com/github/salu133445/ismir2019tutorial/blob/main/musegan.ipynb."
   ]
  },
  {
   "cell_type": "code",
   "execution_count": 202,
   "metadata": {},
   "outputs": [],
   "source": [
    "import csv\n",
    "import itertools\n",
    "import pickle\n",
    "import random\n",
    "import os\n",
    "import sys\n",
    "from dataclasses import dataclass\n",
    "\n",
    "import numpy as np\n",
    "import pretty_midi\n",
    "import pypianoroll\n",
    "import torch\n",
    "from matplotlib import pyplot as plt\n",
    "from pprint import pprint\n",
    "from torch import nn\n",
    "from torch.nn import functional as F\n",
    "from torch.nn.utils.rnn import pack_padded_sequence, pad_packed_sequence\n",
    "from tqdm.notebook import tqdm\n",
    "from IPython.display import clear_output\n",
    "from ipywidgets import interact, IntSlider\n",
    "from livelossplot import PlotLosses\n",
    "from livelossplot.outputs import MatplotlibPlot\n",
    "\n",
    "import util"
   ]
  },
  {
   "cell_type": "markdown",
   "metadata": {},
   "source": [
    "## Data preprocessing"
   ]
  },
  {
   "cell_type": "code",
   "execution_count": 186,
   "metadata": {},
   "outputs": [],
   "source": [
    "@dataclass\n",
    "class Chord:\n",
    "    name: str\n",
    "    start_time: float\n",
    "    end_time: float\n",
    "    token: int\n",
    "\n",
    "\n",
    "class ChordVocab:\n",
    "    def __init__(self, chords):\n",
    "        self._chords = chords.copy()\n",
    "        self.pad_token = 0\n",
    "\n",
    "        self.token_to_chord = {i + 1: chord for i, chord in enumerate(self._chords)}\n",
    "        self.token_to_chord[0] = \"PAD\"\n",
    "        self.chord_to_token = {name: i for i, name in self.token_to_chord.items()}\n",
    "    \n",
    "    def __len__(self):\n",
    "        return len(self.token_to_chord)"
   ]
  },
  {
   "cell_type": "code",
   "execution_count": 111,
   "metadata": {},
   "outputs": [],
   "source": [
    "def get_unique_chords(data_root):\n",
    "    chords = set()\n",
    "    for song_idx in sorted(os.listdir(data_root)):\n",
    "        song_dir = os.path.join(data_root, song_idx)\n",
    "        if not os.path.isdir(song_dir):\n",
    "            continue\n",
    "        chord_path = os.path.join(song_dir, \"chord_midi.txt\")\n",
    "        with open(chord_path, newline=\"\") as f:\n",
    "            reader = csv.reader(f, delimiter=\"\\t\")\n",
    "            chord_data = list(reader)\n",
    "        for _, _, chord in chord_data:\n",
    "            chords.add(chord)\n",
    "    return chords\n",
    "\n",
    "\n",
    "def make_chord_vocab(data_root, out_path):\n",
    "    unique_chords = list(get_unique_chords(data_root))\n",
    "    unique_chords.sort()\n",
    "    unique_chords.remove(\"N\")\n",
    "    unique_chords.insert(0, \"N\")\n",
    "    with open(out_path, \"w\") as f:\n",
    "        for chord in unique_chords:\n",
    "            f.write(f\"{chord}\\n\")\n",
    "\n",
    "\n",
    "def load_chord_vocab(vocab_path):\n",
    "    with open(vocab_path, \"r\") as f:\n",
    "        chords = f.read().splitlines()\n",
    "    return ChordVocab(chords)"
   ]
  },
  {
   "cell_type": "code",
   "execution_count": 362,
   "metadata": {},
   "outputs": [],
   "source": [
    "make_chord_vocab(\"../pop909/original\", \"../data/chord_vocab.txt\")\n",
    "chord_vocab = load_chord_vocab(\"../data/chord_vocab.txt\")\n",
    "CHORD_VOCAB_SIZE = len(chord_vocab)"
   ]
  },
  {
   "cell_type": "code",
   "execution_count": 113,
   "metadata": {},
   "outputs": [],
   "source": [
    "def get_chord_data(data_root, chord_vocab):\n",
    "    song_to_chords = {}\n",
    "    for song_idx in sorted(os.listdir(data_root)):\n",
    "        song_dir = os.path.join(data_root, song_idx)\n",
    "        if not os.path.isdir(song_dir):\n",
    "            continue\n",
    "        chord_path = os.path.join(song_dir, \"chord_midi.txt\")\n",
    "        with open(chord_path, newline=\"\") as f:\n",
    "            reader = csv.reader(f, delimiter=\"\\t\")\n",
    "            chord_data = list(reader)\n",
    "        chords = []\n",
    "        for start_time, end_time, chord in chord_data:\n",
    "            chord = Chord(\n",
    "                chord,\n",
    "                float(start_time),\n",
    "                float(end_time),\n",
    "                chord_vocab.chord_to_token[chord],\n",
    "            )\n",
    "            chords.append(chord)\n",
    "        chords.sort(key=lambda c: c.start_time)\n",
    "        song_to_chords[song_idx] = chords\n",
    "    return song_to_chords"
   ]
  },
  {
   "cell_type": "code",
   "execution_count": 114,
   "metadata": {},
   "outputs": [],
   "source": [
    "song_to_chords = get_chord_data(\"../pop909/original\", chord_vocab)"
   ]
  },
  {
   "cell_type": "code",
   "execution_count": 115,
   "metadata": {},
   "outputs": [
    {
     "data": {
      "text/plain": [
       "[Chord(name='N', start_time=0.055333, end_time=0.721998, token=1),\n",
       " Chord(name='N', start_time=0.721998, end_time=1.388663, token=1),\n",
       " Chord(name='N', start_time=1.388663, end_time=2.055328, token=1),\n",
       " Chord(name='N', start_time=2.055328, end_time=2.721993, token=1),\n",
       " Chord(name='B:maj', start_time=2.721993, end_time=4.055323, token=63),\n",
       " Chord(name='C#:maj', start_time=4.055323, end_time=5.388653, token=115),\n",
       " Chord(name='Bb:min', start_time=5.388653, end_time=6.721983, token=96),\n",
       " Chord(name='Eb:min', start_time=6.721983, end_time=8.055313, token=230),\n",
       " Chord(name='B:maj', start_time=8.055313, end_time=9.388643, token=63),\n",
       " Chord(name='C#:maj', start_time=9.388643, end_time=10.721973, token=115)]"
      ]
     },
     "execution_count": 115,
     "metadata": {},
     "output_type": "execute_result"
    }
   ],
   "source": [
    "song_to_chords[\"001\"][:10]"
   ]
  },
  {
   "cell_type": "markdown",
   "metadata": {},
   "source": [
    "First, let's visualize one of the midi files in the training set."
   ]
  },
  {
   "cell_type": "code",
   "execution_count": 116,
   "metadata": {},
   "outputs": [],
   "source": [
    "m = pypianoroll.load(\"../data/001/001.npz\")\n",
    "m.trim(end=12 * 96);"
   ]
  },
  {
   "cell_type": "code",
   "execution_count": 117,
   "metadata": {},
   "outputs": [
    {
     "data": {
      "image/png": "[encoded data removed]",
      "text/plain": [
       "<Figure size 1152x576 with 1 Axes>"
      ]
     },
     "metadata": {
      "needs_background": "light"
     },
     "output_type": "display_data"
    }
   ],
   "source": [
    "axs = m.plot()\n",
    "plt.gcf().set_size_inches((16, 8))\n",
    "for ax in axs:\n",
    "    for x in range(96, 12 * 96, 96):     \n",
    "        ax.axvline(x - 0.5, color='k', linestyle='-', linewidth=1)\n",
    "plt.show()"
   ]
  },
  {
   "cell_type": "code",
   "execution_count": 118,
   "metadata": {},
   "outputs": [
    {
     "name": "stdout",
     "output_type": "stream",
     "text": [
      "['001', '002', '003', '004', '005']\n",
      "['../data/001/001.npz', '../data/002/002.npz', '../data/003/003.npz', '../data/004/004.npz', '../data/005/005.npz']\n"
     ]
    }
   ],
   "source": [
    "ROOT_DIR = \"../data\"\n",
    "song_names = []\n",
    "for candidate in sorted(os.listdir(ROOT_DIR)):\n",
    "    if os.path.exists(os.path.join(ROOT_DIR, candidate, f\"{candidate}.npz\")):\n",
    "        song_names.append(candidate)\n",
    "song_names.sort()\n",
    "\n",
    "                  \n",
    "def get_midi_path(root_dir, song_name):\n",
    "    return os.path.join(root_dir, song_name, f\"{song_name}.npz\")\n",
    "\n",
    "\n",
    "print(song_names[:5])\n",
    "print(list(get_midi_path(ROOT_DIR, song_name) for song_name in song_names[:5]))"
   ]
  },
  {
   "cell_type": "code",
   "execution_count": 119,
   "metadata": {},
   "outputs": [],
   "source": [
    "def get_chords_in_segment(chords, segment_start, segment_end):\n",
    "    c = []\n",
    "    for chord in chords:\n",
    "        if min(chord.end_time, segment_end) >= max(chord.start_time, segment_start):\n",
    "            c.append(chord)\n",
    "    c.sort(key=lambda chord: chord.start_time)\n",
    "    return c"
   ]
  },
  {
   "cell_type": "code",
   "execution_count": 120,
   "metadata": {},
   "outputs": [],
   "source": [
    "CUDA = torch.cuda.is_available()\n",
    "\n",
    "BEAT_RESOLUTION = 4\n",
    "MEASURE_RESOLUTION = BEAT_RESOLUTION * 4\n",
    "LOWEST_PITCH = 0  # TODO\n",
    "N_TRACKS = 1\n",
    "N_PITCHES = 128  # TODO\n",
    "N_SAMPLES_PER_SONG = 32  # number of samples to extract from each song in the datset\n",
    "N_MEASURES = 2  # number of measures per sample\n",
    "\n",
    "# Training\n",
    "BATCH_SIZE = 16\n",
    "LATENT_DIM = 128\n",
    "N_STEPS = 20000\n",
    "\n",
    "# Sampling\n",
    "SAMPLE_INTERVAL = 100  # interval to run the sampler (in step)\n",
    "N_SAMPLES = 4"
   ]
  },
  {
   "cell_type": "code",
   "execution_count": 422,
   "metadata": {},
   "outputs": [
    {
     "data": {
      "application/vnd.jupyter.widget-view+json": {
       "model_id": "0e9b8a10de1f432facba2717be6691e0",
       "version_major": 2,
       "version_minor": 0
      },
      "text/plain": [
       "HBox(children=(FloatProgress(value=0.0, max=909.0), HTML(value='')))"
      ]
     },
     "metadata": {},
     "output_type": "display_data"
    },
    {
     "name": "stdout",
     "output_type": "stream",
     "text": [
      "\n"
     ]
    }
   ],
   "source": [
    "note_data = []\n",
    "chord_data = []\n",
    "# Iterate over all the songs in the ID list\n",
    "for song_name in tqdm(song_names):\n",
    "    # Load the multitrack as a pypianoroll.Multitrack instance\n",
    "    midi_path = get_midi_path(ROOT_DIR, song_name)\n",
    "    multitrack = pypianoroll.load(midi_path)\n",
    "    # Binarize the pianorolls\n",
    "    multitrack.binarize()\n",
    "    # Downsample the pianorolls (shape: n_timesteps x n_pitches)\n",
    "    multitrack.set_resolution(BEAT_RESOLUTION)\n",
    "    # Stack the pianoroll (shape: n_tracks x n_timesteps x n_pitches)\n",
    "    pianoroll = (multitrack.stack() > 0)\n",
    "    # Get the target pitch range only\n",
    "    pianoroll = pianoroll[:, :, LOWEST_PITCH:LOWEST_PITCH + N_PITCHES]\n",
    "    # Calculate the total measures\n",
    "    n_total_measures = multitrack.get_max_length() // MEASURE_RESOLUTION\n",
    "    candidate = n_total_measures - N_MEASURES\n",
    "    target_n_samples = min(n_total_measures // N_MEASURES - 1, N_SAMPLES_PER_SONG)\n",
    "    # Get speed\n",
    "    midi_repr = multitrack.to_pretty_midi()\n",
    "    notes = midi_repr.instruments[0].notes\n",
    "    duration = notes[-1].end\n",
    "    measures_per_sec = n_total_measures / duration\n",
    "    # Randomly select a number of phrases from the multitrack pianoroll\n",
    "    for idx in np.random.choice(candidate, target_n_samples, replace=False):\n",
    "        start = idx * MEASURE_RESOLUTION\n",
    "        end = (idx + N_MEASURES) * MEASURE_RESOLUTION\n",
    "        # Skip the samples where some track(s) has too few notes\n",
    "        if (pianoroll.sum(axis=(1, 2)) < 10).any():\n",
    "            continue\n",
    "        # Get chords for the segment\n",
    "        start_sec = idx / measures_per_sec\n",
    "        end_sec = (idx + N_MEASURES) / measures_per_sec\n",
    "        chords = get_chords_in_segment(song_to_chords[song_name], start_sec, end_sec)\n",
    "        # Skip the samples where no chords are present. This shouldn't really happen.\n",
    "        if len(chords) == 0:\n",
    "            continue\n",
    "        note_data.append(pianoroll[:, start:end])\n",
    "        chord_data.append(chords)"
   ]
  },
  {
   "cell_type": "code",
   "execution_count": 423,
   "metadata": {},
   "outputs": [
    {
     "data": {
      "image/png": "[encoded data removed]",
      "text/plain": [
       "<Figure size 432x288 with 1 Axes>"
      ]
     },
     "metadata": {
      "needs_background": "light"
     },
     "output_type": "display_data"
    }
   ],
   "source": [
    "num_chords = [len(chords) for chords in chord_data]\n",
    "plt.title(\"Number of chords per data point\")\n",
    "plt.hist(num_chords)\n",
    "plt.show()"
   ]
  },
  {
   "cell_type": "code",
   "execution_count": 424,
   "metadata": {},
   "outputs": [
    {
     "name": "stdout",
     "output_type": "stream",
     "text": [
      "Successfully collected 28068 samples from 909 songs\n",
      "Data shape : (28068, 32, 128)\n"
     ]
    }
   ],
   "source": [
    "# Stack all the collected pianoroll segments into one big array\n",
    "note_data_np = np.stack(note_data).squeeze(1)\n",
    "print(f\"Successfully collected {len(note_data_np)} samples from {len(song_names)} songs\")\n",
    "print(f\"Data shape : {note_data_np.shape}\")"
   ]
  },
  {
   "cell_type": "code",
   "execution_count": 425,
   "metadata": {},
   "outputs": [],
   "source": [
    "# Convert each chord list to a list of tokens\n",
    "chord_data_ = [\n",
    "    [c.token for c in chords]\n",
    "    for chords in chord_data\n",
    "]"
   ]
  },
  {
   "cell_type": "code",
   "execution_count": 426,
   "metadata": {},
   "outputs": [],
   "source": [
    "class MusicDataset(torch.utils.data.Dataset):\n",
    "    def __init__(self, note_data, chord_data):\n",
    "        \"\"\"\n",
    "        Args:\n",
    "            note_data: np.array\n",
    "            chord_data: list of np.array\n",
    "        \"\"\"\n",
    "        super().__init__()\n",
    "        assert note_data.shape[0] == len(chord_data)\n",
    "        self._note_data = torch.from_numpy(note_data)\n",
    "        self._chord_data = [torch.LongTensor(cd) for cd in chord_data]\n",
    "        \n",
    "    def __len__(self):\n",
    "        return len(self._chord_data)\n",
    "    \n",
    "    def __getitem__(self, idx):\n",
    "        return {\n",
    "            \"notes\": self._note_data[idx],\n",
    "            \"chords\": self._chord_data[idx],\n",
    "        }"
   ]
  },
  {
   "cell_type": "code",
   "execution_count": 430,
   "metadata": {},
   "outputs": [
    {
     "data": {
      "image/png": "[encoded data removed]",
      "text/plain": [
       "<Figure size 1152x576 with 1 Axes>"
      ]
     },
     "metadata": {
      "needs_background": "light"
     },
     "output_type": "display_data"
    }
   ],
   "source": [
    "TEMPO = 100\n",
    "\n",
    "tempo_array = np.full((4 * 4 * MEASURE_RESOLUTION, 1), TEMPO)\n",
    "tracks = []\n",
    "sample_data = np.expand_dims(note_data_np, 1)[:4]  # Add fake track dim\n",
    "pianoroll = np.pad(np.concatenate(sample_data, 1)[0], ((0, 0), (LOWEST_PITCH, 128 - LOWEST_PITCH - N_PITCHES)))\n",
    "tracks.append(pypianoroll.Track(name=\"MAIN\", program=0, is_drum=False, pianoroll=pianoroll))\n",
    "multitrack = pypianoroll.Multitrack(tracks=tracks, tempo=tempo_array, resolution=BEAT_RESOLUTION)\n",
    "axs = multitrack.plot()\n",
    "plt.gcf().set_size_inches((16, 8))\n",
    "for ax in axs:\n",
    "    for x in range(MEASURE_RESOLUTION, 8 * MEASURE_RESOLUTION, MEASURE_RESOLUTION):\n",
    "        if x % MEASURE_RESOLUTION == 0:\n",
    "            ax.axvline(x - 0.5, color='k')\n",
    "        else:\n",
    "            ax.axvline(x - 0.5, color='k', linestyle='-', linewidth=1)\n",
    "plt.show()"
   ]
  },
  {
   "cell_type": "markdown",
   "metadata": {},
   "source": [
    "## Dataset"
   ]
  },
  {
   "cell_type": "code",
   "execution_count": 431,
   "metadata": {},
   "outputs": [],
   "source": [
    "def collate_fn(samples):\n",
    "    print(samples)\n",
    "\n",
    "dataset = MusicDataset(note_data_np, chord_data_)\n",
    "data_loader = torch.utils.data.DataLoader(\n",
    "    dataset,\n",
    "    batch_size=BATCH_SIZE,\n",
    "    drop_last=True,\n",
    "    shuffle=True,\n",
    "    collate_fn=util.collate_fn,\n",
    ")"
   ]
  },
  {
   "cell_type": "code",
   "execution_count": 432,
   "metadata": {},
   "outputs": [
    {
     "name": "stdout",
     "output_type": "stream",
     "text": [
      "torch.Size([16, 32, 128])\n",
      "torch.Size([16, 6])\n"
     ]
    }
   ],
   "source": [
    "notes, chords = next(iter(data_loader))\n",
    "print(notes.shape)\n",
    "print(chords.shape)"
   ]
  },
  {
   "cell_type": "markdown",
   "metadata": {},
   "source": [
    "## Model definitions"
   ]
  },
  {
   "cell_type": "code",
   "execution_count": 433,
   "metadata": {},
   "outputs": [],
   "source": [
    "class HighwayEncoder(nn.Module):\n",
    "    \"\"\"\n",
    "    Encode an input sequence using a highway network.\n",
    "\n",
    "    Based on the paper \"Highway Networks\"\n",
    "    by Rupesh Kumar Srivastava, Klaus Greff, Jürgen Schmidhuber\n",
    "    (https://arxiv.org/abs/1505.00387).\n",
    "\n",
    "    Args:\n",
    "        num_layers (int): Number of layers in the highway encoder.\n",
    "        hidden_size (int): Size of hidden activations.\n",
    "    \n",
    "    Based on https://github.com/minggg/squad.\n",
    "    \"\"\"\n",
    "\n",
    "    def __init__(self, num_layers, hidden_size):\n",
    "        super().__init__()\n",
    "        self.transforms = nn.ModuleList(\n",
    "            [nn.Linear(hidden_size, hidden_size) for _ in range(num_layers)]\n",
    "        )\n",
    "        self.gates = nn.ModuleList(\n",
    "            [nn.Linear(hidden_size, hidden_size) for _ in range(num_layers)]\n",
    "        )\n",
    "\n",
    "    def forward(self, x):\n",
    "        for gate, transform in zip(self.gates, self.transforms):\n",
    "            # Shapes of g, t, and x are all (batch_size, seq_len, hidden_size)\n",
    "            g = torch.sigmoid(gate(x))\n",
    "            t = F.relu(transform(x))\n",
    "            x = g * t + (1 - g) * x\n",
    "        return x"
   ]
  },
  {
   "cell_type": "code",
   "execution_count": 434,
   "metadata": {},
   "outputs": [],
   "source": [
    "class ChordEmbedding(torch.nn.Module):\n",
    "    \"\"\"\n",
    "    Based on https://github.com/minggg/squad.\n",
    "    \"\"\"\n",
    "\n",
    "    def __init__(self, hidden_size, num_embeddings, embedding_size, drop_prob, padding_idx=0):\n",
    "        super().__init__()\n",
    "        self.drop_prob = drop_prob\n",
    "        self.embed = nn.Embedding(num_embeddings, embedding_size, padding_idx=padding_idx)\n",
    "        self.proj = nn.Linear(embedding_size, hidden_size, bias=False)\n",
    "        self.hwy = HighwayEncoder(num_layers=2, hidden_size=hidden_size)\n",
    "\n",
    "    def forward(self, x):\n",
    "        emb = self.embed(x)  # (batch_size, seq_len, embed_size)\n",
    "        emb = F.dropout(emb, self.drop_prob, self.training)\n",
    "        emb = self.proj(emb)  # (batch_size, seq_len, hidden_size)\n",
    "        emb = self.hwy(emb)  # (batch_size, seq_len, hidden_size)\n",
    "        return emb"
   ]
  },
  {
   "cell_type": "code",
   "execution_count": 435,
   "metadata": {},
   "outputs": [],
   "source": [
    "class ChordEncoder(nn.Module):\n",
    "    \"\"\"General-purpose layer for encoding a sequence using a bidirectional RNN.\n",
    "\n",
    "    Encoded output is the RNN's hidden state at each position, which\n",
    "    has shape `(batch_size, seq_len, hidden_size * 2)`.\n",
    "\n",
    "    Args:\n",
    "        input_size (int): Size of a single timestep in the input.\n",
    "        hidden_size (int): Size of the RNN hidden state.\n",
    "        num_layers (int): Number of layers of RNN cells to use.\n",
    "        drop_prob (float): Probability of zero-ing out activations.\n",
    "    \n",
    "    Based on https://github.com/minggg/squad.\n",
    "    \"\"\"\n",
    "\n",
    "    def __init__(self, input_size, hidden_size, num_layers, drop_prob=0.0):\n",
    "        super().__init__()\n",
    "        self.rnn = nn.LSTM(\n",
    "            input_size,\n",
    "            hidden_size,\n",
    "            num_layers,\n",
    "            batch_first=True,\n",
    "            bidirectional=True,\n",
    "            dropout=drop_prob if num_layers > 1 else 0.0,\n",
    "        )\n",
    "        self.proj = nn.Linear(2 * hidden_size, hidden_size, bias=False)\n",
    "        self.dropout = nn.Dropout(drop_prob)\n",
    "\n",
    "    def forward(self, x, lengths):\n",
    "        # Save original padded length for use by pad_packed_sequence\n",
    "        orig_len = x.size(1)\n",
    "\n",
    "        # Sort by length and pack sequence for RNN\n",
    "        lengths, sort_idx = lengths.sort(0, descending=True)\n",
    "        x = x[sort_idx]  # (batch_size, seq_len, input_size)\n",
    "        x = pack_padded_sequence(x, lengths, batch_first=True)\n",
    "\n",
    "        # Apply RNN\n",
    "        _, (last_hiddens, _) = self.rnn(x)\n",
    "        last_hiddens_cat = torch.cat([last_hiddens[0], last_hiddens[1]], dim=1)\n",
    "        \n",
    "        out = self.proj(last_hiddens_cat)\n",
    "        out = self.dropout(out)\n",
    "        return out"
   ]
  },
  {
   "cell_type": "code",
   "execution_count": 436,
   "metadata": {},
   "outputs": [
    {
     "name": "stdout",
     "output_type": "stream",
     "text": [
      "42400\n",
      "3840\n"
     ]
    }
   ],
   "source": [
    "# Test embedding and encoder\n",
    "emb = ChordEmbedding(8, CHORD_VOCAB_SIZE, 128, 0.0)\n",
    "enc = ChordEncoder(8, 16, 1)\n",
    "x = torch.LongTensor(5, 7).random_(0, CHORD_VOCAB_SIZE)\n",
    "mask = x != torch.zeros_like(x)\n",
    "x = emb(x)\n",
    "enc(x, mask.sum(-1)).shape\n",
    "print(sum(p.numel() for p in emb.parameters() if p.requires_grad))\n",
    "print(sum(p.numel() for p in enc.parameters() if p.requires_grad))"
   ]
  },
  {
   "cell_type": "code",
   "execution_count": 437,
   "metadata": {},
   "outputs": [],
   "source": [
    "class GeneratorBlock(torch.nn.Module):\n",
    "    def __init__(self, in_dim, out_dim, kernel, stride):\n",
    "        super().__init__()\n",
    "        self.transconv = torch.nn.ConvTranspose2d(in_dim, out_dim, kernel, stride)\n",
    "        self.batchnorm = torch.nn.BatchNorm2d(out_dim)\n",
    "    \n",
    "    def forward(self, x):\n",
    "        x = self.transconv(x)\n",
    "        x = self.batchnorm(x)\n",
    "        return torch.nn.functional.relu(x)"
   ]
  },
  {
   "cell_type": "code",
   "execution_count": 438,
   "metadata": {},
   "outputs": [],
   "source": [
    "class Generator(torch.nn.Module):\n",
    "    \"\"\"\n",
    "    A convolutional neural network (CNN) based generator. The generator takes\n",
    "    as input a latent vector and a chord embedding and outputs a fake sample.\n",
    "    \"\"\"\n",
    "    def __init__(self, hidden_size, chord_vocab_size, chord_emb_size, drop_prob=0.0):\n",
    "        super().__init__()\n",
    "        self.chord_emb = ChordEmbedding(\n",
    "            hidden_size=hidden_size,\n",
    "            num_embeddings=chord_vocab_size,\n",
    "            embedding_size=chord_emb_size,\n",
    "            drop_prob=drop_prob,\n",
    "        )\n",
    "        self.chord_enc = ChordEncoder(\n",
    "            input_size=hidden_size,\n",
    "            hidden_size=hidden_size,\n",
    "            num_layers=2,\n",
    "            drop_prob=0.0,\n",
    "        )\n",
    "        self.proj = nn.Linear(LATENT_DIM + hidden_size, LATENT_DIM)\n",
    "        self.hwy = HighwayEncoder(num_layers=2, hidden_size=LATENT_DIM)\n",
    "        self.transconv0 = GeneratorBlock(LATENT_DIM, 256, (4, 1), (4, 1))\n",
    "        self.transconv1 = GeneratorBlock(256, 256, (1, 4), (1, 4))\n",
    "        self.transconv2 = GeneratorBlock(256, 128, (1, 5), (1, 1))\n",
    "        self.transconv3 = GeneratorBlock(128, 64, (5, 1), (1, 1))\n",
    "        self.transconv4 = GeneratorBlock(64, 64, (1, 1), (1, 1))\n",
    "\n",
    "    def forward(self, z, chords):\n",
    "        batch_size, latent_dim = z.size()\n",
    "        \n",
    "        # Transform chord sequences into fixed size vectors\n",
    "        mask = chords != torch.zeros_like(chords)\n",
    "        lengths = mask.sum(-1)\n",
    "        chord_emb = self.chord_emb(chords)\n",
    "        chord_enc = self.chord_enc(chord_emb, lengths)\n",
    "        \n",
    "        z = torch.cat([z, chord_enc], dim=1)\n",
    "        z = self.proj(z)\n",
    "        z = self.hwy(z)\n",
    "        z = z.view(-1, latent_dim, 1, 1)\n",
    "        z = self.transconv0(z)\n",
    "        z = self.transconv1(z)\n",
    "        z = self.transconv2(z)\n",
    "        z = self.transconv3(z)\n",
    "        z = self.transconv4(z)\n",
    "        z = z.view(batch_size, N_MEASURES * MEASURE_RESOLUTION, N_PITCHES)\n",
    "        return z"
   ]
  },
  {
   "cell_type": "code",
   "execution_count": 473,
   "metadata": {},
   "outputs": [
    {
     "name": "stdout",
     "output_type": "stream",
     "text": [
      "Num params: 922848\n",
      "Generator output shape: torch.Size([5, 32, 128])\n"
     ]
    }
   ],
   "source": [
    "# Test generator\n",
    "g = Generator(hidden_size=64, chord_vocab_size=CHORD_VOCAB_SIZE, chord_emb_size=96)\n",
    "print(f\"Num params: {sum(p.numel() for p in g.parameters() if p.requires_grad)}\")\n",
    "z = torch.randn((5, LATENT_DIM))\n",
    "test_chords = torch.LongTensor(5, 8).random_(0, 13)\n",
    "test_fake = g(z, test_chords)\n",
    "print(f\"Generator output shape: {test_fake.shape}\")"
   ]
  },
  {
   "cell_type": "code",
   "execution_count": 474,
   "metadata": {},
   "outputs": [],
   "source": [
    "class LayerNorm(torch.nn.Module):\n",
    "    \"\"\"\n",
    "    An implementation of Layer normalization that does not require size\n",
    "    information. Copied from https://github.com/pytorch/pytorch/issues/1959.\n",
    "    \"\"\"\n",
    "    def __init__(self, n_features, eps=1e-5, affine=True):\n",
    "        super().__init__()\n",
    "        self.n_features = n_features\n",
    "        self.affine = affine\n",
    "        self.eps = eps\n",
    "        if self.affine:\n",
    "            self.gamma = torch.nn.Parameter(torch.Tensor(n_features).uniform_())\n",
    "            self.beta = torch.nn.Parameter(torch.zeros(n_features))\n",
    "\n",
    "    def forward(self, x):\n",
    "        shape = [-1] + [1] * (x.dim() - 1)\n",
    "        mean = x.view(x.size(0), -1).mean(1).view(*shape)\n",
    "        std = x.view(x.size(0), -1).std(1).view(*shape)\n",
    "        y = (x - mean) / (std + self.eps)\n",
    "        if self.affine:\n",
    "            shape = [1, -1] + [1] * (x.dim() - 2)\n",
    "            y = self.gamma.view(*shape) * y + self.beta.view(*shape)\n",
    "        return y"
   ]
  },
  {
   "cell_type": "code",
   "execution_count": 475,
   "metadata": {},
   "outputs": [],
   "source": [
    "class DiscriminatorBlock(torch.nn.Module):\n",
    "    def __init__(self, in_dim, out_dim, kernel, stride):\n",
    "        super().__init__()\n",
    "        self.transconv = torch.nn.Conv2d(in_dim, out_dim, kernel, stride)\n",
    "        self.layernorm = LayerNorm(out_dim)\n",
    "    \n",
    "    def forward(self, x):\n",
    "        x = self.transconv(x)\n",
    "        x = self.layernorm(x)\n",
    "        return torch.nn.functional.leaky_relu(x)"
   ]
  },
  {
   "cell_type": "code",
   "execution_count": 483,
   "metadata": {},
   "outputs": [],
   "source": [
    "class Discriminator(torch.nn.Module):\n",
    "    \"\"\"\n",
    "    A convolutional neural network (CNN) based discriminator. The\n",
    "    discriminator takes as input either a real sample (in the training data) or\n",
    "    a fake sample (generated by the generator) and outputs a scalar indicating\n",
    "    its authentity.\n",
    "    \"\"\"\n",
    "    def __init__(self, hidden_size, chord_vocab_size, chord_emb_size, drop_prob=0.0):\n",
    "        super().__init__()\n",
    "        self.chord_emb = ChordEmbedding(\n",
    "            hidden_size=hidden_size,\n",
    "            num_embeddings=chord_vocab_size,\n",
    "            embedding_size=chord_emb_size,\n",
    "            drop_prob=drop_prob,\n",
    "        )\n",
    "        self.chord_enc = ChordEncoder(\n",
    "            input_size=hidden_size,\n",
    "            hidden_size=hidden_size,\n",
    "            num_layers=2,\n",
    "            drop_prob=0.0,\n",
    "        )\n",
    "        self.conv0 = DiscriminatorBlock(2, 16, (1, 12), (1, 12))\n",
    "        self.conv1 = DiscriminatorBlock(16, 16, (4, 1), (4, 1))\n",
    "        self.conv2 = DiscriminatorBlock(16, 64, (1, 3), (1, 1))\n",
    "        self.conv3 = DiscriminatorBlock(64, 64, (1, 4), (1, 4))\n",
    "        self.conv4 = DiscriminatorBlock(64, 128, (4, 1), (4, 1))\n",
    "        self.conv5 = DiscriminatorBlock(128, 128, (1, 1), (1, 1))\n",
    "        self.conv6 = DiscriminatorBlock(128, 256, (1, 1), (1, 2))\n",
    "        self.proj = nn.Linear(256 + hidden_size, hidden_size)\n",
    "        self.hwy = HighwayEncoder(num_layers=2, hidden_size=hidden_size)\n",
    "        self.dense = torch.nn.Linear(hidden_size, 1)\n",
    "        \n",
    "\n",
    "    def forward(self, x, chords):\n",
    "        batch_size, _, _ = x.size()\n",
    "\n",
    "        # Transform chord sequences into fixed size vectors\n",
    "        mask = chords != torch.zeros_like(chords)\n",
    "        lengths = mask.sum(-1)\n",
    "        chord_emb = self.chord_emb(chords)\n",
    "        chord_enc = self.chord_enc(chord_emb, lengths)\n",
    "        \n",
    "        # Process fake note sequences\n",
    "        x = x.view(-1, N_MEASURES, MEASURE_RESOLUTION, N_PITCHES)\n",
    "        x = self.conv0(x)\n",
    "        x = self.conv1(x)\n",
    "        x = self.conv2(x)\n",
    "        x = self.conv3(x)\n",
    "        x = self.conv4(x)\n",
    "        x = self.conv5(x)\n",
    "        x = self.conv6(x)\n",
    "        x = x.view(batch_size, 256)\n",
    "        \n",
    "        # Combine both representations\n",
    "        x = torch.cat([x, chord_enc], dim=1)\n",
    "        x = self.proj(x)\n",
    "        x = self.hwy(x)\n",
    "        x = self.dense(x)\n",
    "        return x"
   ]
  },
  {
   "cell_type": "code",
   "execution_count": 484,
   "metadata": {},
   "outputs": [
    {
     "data": {
      "text/plain": [
       "tensor([[0.1905],\n",
       "        [0.1711],\n",
       "        [0.1696],\n",
       "        [0.1747],\n",
       "        [0.1466]], grad_fn=<AddmmBackward>)"
      ]
     },
     "execution_count": 484,
     "metadata": {},
     "output_type": "execute_result"
    }
   ],
   "source": [
    "# Test discriminator\n",
    "d = Discriminator(64, CHORD_VOCAB_SIZE, 96)\n",
    "d(test_fake, test_chords)"
   ]
  },
  {
   "cell_type": "markdown",
   "metadata": {},
   "source": [
    "## Training functions"
   ]
  },
  {
   "cell_type": "code",
   "execution_count": 494,
   "metadata": {},
   "outputs": [],
   "source": [
    "def compute_gradient_penalty(discriminator, real_samples, fake_samples, chords):\n",
    "    \"\"\"Compute the gradient penalty for regularization. Intuitively, the\n",
    "    gradient penalty help stablize the magnitude of the gradients that the\n",
    "    discriminator provides to the generator, and thus help stablize the training\n",
    "    of the generator.\"\"\"\n",
    "    # Get random interpolations between real and fake samples\n",
    "    alpha = torch.rand(real_samples.size(0), 1, 1)\n",
    "    if torch.cuda.is_available():\n",
    "        alpha = alpha.cuda()\n",
    "    interpolates = (alpha * real_samples + ((1 - alpha) * fake_samples))\n",
    "    interpolates = interpolates.requires_grad_(True)\n",
    "    # Get the discriminator output for the interpolations\n",
    "    d_interpolates = discriminator(interpolates, chords)\n",
    "    # Get gradients w.r.t. the interpolations\n",
    "    fake = torch.ones(real_samples.size(0), 1)\n",
    "    if torch.cuda.is_available():\n",
    "        fake = fake.cuda()\n",
    "    gradients = torch.autograd.grad(\n",
    "        outputs=d_interpolates,\n",
    "        inputs=interpolates,\n",
    "        grad_outputs=fake,\n",
    "        create_graph=True,\n",
    "        retain_graph=True,\n",
    "        only_inputs=True\n",
    "    )[0]\n",
    "    # Compute gradient penalty\n",
    "    gradients = gradients.view(gradients.size(0), -1)\n",
    "    gradient_penalty = ((gradients.norm(2, dim=1) - 1) ** 2).mean()\n",
    "    return gradient_penalty"
   ]
  },
  {
   "cell_type": "code",
   "execution_count": 495,
   "metadata": {},
   "outputs": [],
   "source": [
    "def train_one_step(d_optimizer, g_optimizer, real_samples, chords):\n",
    "    \"\"\"Train the networks for one step.\"\"\"\n",
    "    # Sample from the lantent distribution\n",
    "    latent = torch.randn(BATCH_SIZE, LATENT_DIM)\n",
    "\n",
    "    # Transfer data to GPU\n",
    "    if torch.cuda.is_available():\n",
    "        real_samples = real_samples.cuda()\n",
    "        chords = chords.cuda()\n",
    "        latent = latent.cuda()\n",
    "    \n",
    "    # === Train the discriminator ===\n",
    "    # Reset cached gradients to zero\n",
    "    d_optimizer.zero_grad()\n",
    "    # Get discriminator outputs for the real samples\n",
    "    prediction_real = discriminator(real_samples, chords)\n",
    "    # Compute the loss function\n",
    "    # d_loss_real = torch.mean(torch.nn.functional.relu(1. - prediction_real))\n",
    "    d_loss_real = -torch.mean(prediction_real)\n",
    "    # Backpropagate the gradients\n",
    "    d_loss_real.backward()\n",
    "    \n",
    "    # Generate fake samples with the generator\n",
    "    fake_samples = generator(latent, chords)\n",
    "    # Get discriminator outputs for the fake samples\n",
    "    prediction_fake_d = discriminator(fake_samples.detach(), chords)\n",
    "    # Compute the loss function\n",
    "    # d_loss_fake = torch.mean(torch.nn.functional.relu(1. + prediction_fake_d))\n",
    "    d_loss_fake = torch.mean(prediction_fake_d)\n",
    "    # Backpropagate the gradients\n",
    "    d_loss_fake.backward()\n",
    "\n",
    "    # Compute gradient penalty\n",
    "    gradient_penalty = 10.0 * compute_gradient_penalty(\n",
    "        discriminator, real_samples.data, fake_samples.data, chords,\n",
    "    )\n",
    "    # Backpropagate the gradients\n",
    "    gradient_penalty.backward()\n",
    "\n",
    "    # Update the weights\n",
    "    d_optimizer.step()\n",
    "    \n",
    "    # === Train the generator ===\n",
    "    # Reset cached gradients to zero\n",
    "    g_optimizer.zero_grad()\n",
    "    # Get discriminator outputs for the fake samples\n",
    "    prediction_fake_g = discriminator(fake_samples, chords)\n",
    "    # Compute the loss function\n",
    "    g_loss = -torch.mean(prediction_fake_g)\n",
    "    # Backpropagate the gradients\n",
    "    g_loss.backward()\n",
    "    # Update the weights\n",
    "    g_optimizer.step()\n",
    "\n",
    "    return d_loss_real + d_loss_fake, g_loss"
   ]
  },
  {
   "cell_type": "markdown",
   "metadata": {},
   "source": [
    "## Training setup"
   ]
  },
  {
   "cell_type": "code",
   "execution_count": 496,
   "metadata": {},
   "outputs": [
    {
     "name": "stdout",
     "output_type": "stream",
     "text": [
      "Number of parameters in G: 1519104\n",
      "Number of parameters in D: 1036001\n"
     ]
    }
   ],
   "source": [
    "# Create data loader.\n",
    "# data_loader = get_data_loader()\n",
    "\n",
    "# Create neural networks.\n",
    "discriminator = Discriminator(\n",
    "    hidden_size=128,\n",
    "    chord_vocab_size=CHORD_VOCAB_SIZE,\n",
    "    chord_emb_size=128,\n",
    ")\n",
    "generator = Generator(\n",
    "    hidden_size=128,\n",
    "    chord_vocab_size=CHORD_VOCAB_SIZE,\n",
    "    chord_emb_size=128,\n",
    ")\n",
    "print(\"Number of parameters in G: {}\".format(\n",
    "    sum(p.numel() for p in generator.parameters() if p.requires_grad))\n",
    ")\n",
    "print(\"Number of parameters in D: {}\".format(\n",
    "    sum(p.numel() for p in discriminator.parameters() if p.requires_grad))\n",
    ")\n",
    "\n",
    "# Create optimizers.\n",
    "d_optimizer = torch.optim.Adam(\n",
    "    discriminator.parameters(), lr=0.001,  betas=(0.5, 0.9),\n",
    ")\n",
    "g_optimizer = torch.optim.Adam(\n",
    "    generator.parameters(), lr=0.001, betas=(0.5, 0.9),\n",
    ")\n",
    "\n",
    "# Prepare the inputs for the sampler, which will run during training.\n",
    "sample_latent = torch.randn(1, LATENT_DIM)\n",
    "sample_chords = torch.LongTensor([[284,  88, 222,  37]])\n",
    "\n",
    "# Transfer the neural nets and samples to GPU.\n",
    "if torch.cuda.is_available():\n",
    "    discriminator = discriminator.cuda()\n",
    "    generator = generator.cuda()\n",
    "    sample_latent = sample_latent.cuda()\n",
    "\n",
    "# Create an empty dictionary to sotre history samples.\n",
    "history_samples = {}\n",
    "\n",
    "# Create a LiveLoss logger instance for monitoring.\n",
    "liveloss = PlotLosses(outputs=[MatplotlibPlot(cell_size=(6, 2))])\n",
    "\n",
    "# Initialize step.\n",
    "step = 0"
   ]
  },
  {
   "cell_type": "code",
   "execution_count": 497,
   "metadata": {},
   "outputs": [
    {
     "data": {
      "text/plain": [
       "torch.Size([1, 32, 128])"
      ]
     },
     "execution_count": 497,
     "metadata": {},
     "output_type": "execute_result"
    }
   ],
   "source": [
    "generator(sample_latent, sample_chords).shape"
   ]
  },
  {
   "cell_type": "markdown",
   "metadata": {},
   "source": [
    "## Training"
   ]
  },
  {
   "cell_type": "code",
   "execution_count": 500,
   "metadata": {},
   "outputs": [
    {
     "data": {
      "image/png": "[encoded data removed]",
      "text/plain": [
       "<Figure size 1152x576 with 1 Axes>"
      ]
     },
     "metadata": {
      "needs_background": "light"
     },
     "output_type": "display_data"
    },
    {
     "name": "stdout",
     "output_type": "stream",
     "text": [
      "Step 0 \t D-loss: 0.130179 \t G-loss: -0.062988\n"
     ]
    },
    {
     "ename": "KeyboardInterrupt",
     "evalue": "",
     "output_type": "error",
     "traceback": [
      "\u001b[0;31m---------------------------------------------------------------------------\u001b[0m",
      "\u001b[0;31mKeyboardInterrupt\u001b[0m                         Traceback (most recent call last)",
      "\u001b[0;32m<ipython-input-500-1f44aea1761b>\u001b[0m in \u001b[0;36m<module>\u001b[0;34m\u001b[0m\n\u001b[1;32m     11\u001b[0m         \u001b[0;31m# Train the neural networks\u001b[0m\u001b[0;34m\u001b[0m\u001b[0;34m\u001b[0m\u001b[0;34m\u001b[0m\u001b[0m\n\u001b[1;32m     12\u001b[0m         \u001b[0mgenerator\u001b[0m\u001b[0;34m.\u001b[0m\u001b[0mtrain\u001b[0m\u001b[0;34m(\u001b[0m\u001b[0;34m)\u001b[0m\u001b[0;34m\u001b[0m\u001b[0;34m\u001b[0m\u001b[0m\n\u001b[0;32m---> 13\u001b[0;31m         \u001b[0md_loss\u001b[0m\u001b[0;34m,\u001b[0m \u001b[0mg_loss\u001b[0m \u001b[0;34m=\u001b[0m \u001b[0mtrain_one_step\u001b[0m\u001b[0;34m(\u001b[0m\u001b[0md_optimizer\u001b[0m\u001b[0;34m,\u001b[0m \u001b[0mg_optimizer\u001b[0m\u001b[0;34m,\u001b[0m \u001b[0mreal_samples\u001b[0m\u001b[0;34m,\u001b[0m \u001b[0mchords\u001b[0m\u001b[0;34m)\u001b[0m\u001b[0;34m\u001b[0m\u001b[0;34m\u001b[0m\u001b[0m\n\u001b[0m\u001b[1;32m     14\u001b[0m \u001b[0;34m\u001b[0m\u001b[0m\n\u001b[1;32m     15\u001b[0m         \u001b[0;31m# Record smoothened loss values to LiveLoss logger\u001b[0m\u001b[0;34m\u001b[0m\u001b[0;34m\u001b[0m\u001b[0;34m\u001b[0m\u001b[0m\n",
      "\u001b[0;32m<ipython-input-495-67fc462c4875>\u001b[0m in \u001b[0;36mtrain_one_step\u001b[0;34m(d_optimizer, g_optimizer, real_samples, chords)\u001b[0m\n\u001b[1;32m     51\u001b[0m     \u001b[0mg_loss\u001b[0m\u001b[0;34m.\u001b[0m\u001b[0mbackward\u001b[0m\u001b[0;34m(\u001b[0m\u001b[0;34m)\u001b[0m\u001b[0;34m\u001b[0m\u001b[0;34m\u001b[0m\u001b[0m\n\u001b[1;32m     52\u001b[0m     \u001b[0;31m# Update the weights\u001b[0m\u001b[0;34m\u001b[0m\u001b[0;34m\u001b[0m\u001b[0;34m\u001b[0m\u001b[0m\n\u001b[0;32m---> 53\u001b[0;31m     \u001b[0mg_optimizer\u001b[0m\u001b[0;34m.\u001b[0m\u001b[0mstep\u001b[0m\u001b[0;34m(\u001b[0m\u001b[0;34m)\u001b[0m\u001b[0;34m\u001b[0m\u001b[0;34m\u001b[0m\u001b[0m\n\u001b[0m\u001b[1;32m     54\u001b[0m \u001b[0;34m\u001b[0m\u001b[0m\n\u001b[1;32m     55\u001b[0m     \u001b[0;32mreturn\u001b[0m \u001b[0md_loss_real\u001b[0m \u001b[0;34m+\u001b[0m \u001b[0md_loss_fake\u001b[0m\u001b[0;34m,\u001b[0m \u001b[0mg_loss\u001b[0m\u001b[0;34m\u001b[0m\u001b[0;34m\u001b[0m\u001b[0m\n",
      "\u001b[0;32m~/.pyenv/versions/3.7.9/lib/python3.7/site-packages/torch/autograd/grad_mode.py\u001b[0m in \u001b[0;36mdecorate_context\u001b[0;34m(*args, **kwargs)\u001b[0m\n\u001b[1;32m     24\u001b[0m         \u001b[0;32mdef\u001b[0m \u001b[0mdecorate_context\u001b[0m\u001b[0;34m(\u001b[0m\u001b[0;34m*\u001b[0m\u001b[0margs\u001b[0m\u001b[0;34m,\u001b[0m \u001b[0;34m**\u001b[0m\u001b[0mkwargs\u001b[0m\u001b[0;34m)\u001b[0m\u001b[0;34m:\u001b[0m\u001b[0;34m\u001b[0m\u001b[0;34m\u001b[0m\u001b[0m\n\u001b[1;32m     25\u001b[0m             \u001b[0;32mwith\u001b[0m \u001b[0mself\u001b[0m\u001b[0;34m.\u001b[0m\u001b[0m__class__\u001b[0m\u001b[0;34m(\u001b[0m\u001b[0;34m)\u001b[0m\u001b[0;34m:\u001b[0m\u001b[0;34m\u001b[0m\u001b[0;34m\u001b[0m\u001b[0m\n\u001b[0;32m---> 26\u001b[0;31m                 \u001b[0;32mreturn\u001b[0m \u001b[0mfunc\u001b[0m\u001b[0;34m(\u001b[0m\u001b[0;34m*\u001b[0m\u001b[0margs\u001b[0m\u001b[0;34m,\u001b[0m \u001b[0;34m**\u001b[0m\u001b[0mkwargs\u001b[0m\u001b[0;34m)\u001b[0m\u001b[0;34m\u001b[0m\u001b[0;34m\u001b[0m\u001b[0m\n\u001b[0m\u001b[1;32m     27\u001b[0m         \u001b[0;32mreturn\u001b[0m \u001b[0mcast\u001b[0m\u001b[0;34m(\u001b[0m\u001b[0mF\u001b[0m\u001b[0;34m,\u001b[0m \u001b[0mdecorate_context\u001b[0m\u001b[0;34m)\u001b[0m\u001b[0;34m\u001b[0m\u001b[0;34m\u001b[0m\u001b[0m\n\u001b[1;32m     28\u001b[0m \u001b[0;34m\u001b[0m\u001b[0m\n",
      "\u001b[0;32m~/.pyenv/versions/3.7.9/lib/python3.7/site-packages/torch/optim/adam.py\u001b[0m in \u001b[0;36mstep\u001b[0;34m(self, closure)\u001b[0m\n\u001b[1;32m     76\u001b[0m \u001b[0;34m\u001b[0m\u001b[0m\n\u001b[1;32m     77\u001b[0m             \u001b[0;32mfor\u001b[0m \u001b[0mp\u001b[0m \u001b[0;32min\u001b[0m \u001b[0mgroup\u001b[0m\u001b[0;34m[\u001b[0m\u001b[0;34m'params'\u001b[0m\u001b[0;34m]\u001b[0m\u001b[0;34m:\u001b[0m\u001b[0;34m\u001b[0m\u001b[0;34m\u001b[0m\u001b[0m\n\u001b[0;32m---> 78\u001b[0;31m                 \u001b[0;32mif\u001b[0m \u001b[0mp\u001b[0m\u001b[0;34m.\u001b[0m\u001b[0mgrad\u001b[0m \u001b[0;32mis\u001b[0m \u001b[0;32mnot\u001b[0m \u001b[0;32mNone\u001b[0m\u001b[0;34m:\u001b[0m\u001b[0;34m\u001b[0m\u001b[0;34m\u001b[0m\u001b[0m\n\u001b[0m\u001b[1;32m     79\u001b[0m                     \u001b[0mparams_with_grad\u001b[0m\u001b[0;34m.\u001b[0m\u001b[0mappend\u001b[0m\u001b[0;34m(\u001b[0m\u001b[0mp\u001b[0m\u001b[0;34m)\u001b[0m\u001b[0;34m\u001b[0m\u001b[0;34m\u001b[0m\u001b[0m\n\u001b[1;32m     80\u001b[0m                     \u001b[0;32mif\u001b[0m \u001b[0mp\u001b[0m\u001b[0;34m.\u001b[0m\u001b[0mgrad\u001b[0m\u001b[0;34m.\u001b[0m\u001b[0mis_sparse\u001b[0m\u001b[0;34m:\u001b[0m\u001b[0;34m\u001b[0m\u001b[0;34m\u001b[0m\u001b[0m\n",
      "\u001b[0;32m~/.pyenv/versions/3.7.9/lib/python3.7/site-packages/torch/tensor.py\u001b[0m in \u001b[0;36mgrad\u001b[0;34m(self)\u001b[0m\n\u001b[1;32m    951\u001b[0m                           \u001b[0;34m\"non-leaf Tensor by mistake, make sure you access the leaf Tensor instead. See \"\u001b[0m\u001b[0;34m\u001b[0m\u001b[0;34m\u001b[0m\u001b[0m\n\u001b[1;32m    952\u001b[0m                           \"github.com/pytorch/pytorch/pull/30531 for more informations.\", stacklevel=2)\n\u001b[0;32m--> 953\u001b[0;31m         \u001b[0;32mreturn\u001b[0m \u001b[0mself\u001b[0m\u001b[0;34m.\u001b[0m\u001b[0m_grad\u001b[0m\u001b[0;34m\u001b[0m\u001b[0;34m\u001b[0m\u001b[0m\n\u001b[0m\u001b[1;32m    954\u001b[0m \u001b[0;34m\u001b[0m\u001b[0m\n\u001b[1;32m    955\u001b[0m     \u001b[0;34m@\u001b[0m\u001b[0mgrad\u001b[0m\u001b[0;34m.\u001b[0m\u001b[0msetter\u001b[0m\u001b[0;34m\u001b[0m\u001b[0;34m\u001b[0m\u001b[0m\n",
      "\u001b[0;31mKeyboardInterrupt\u001b[0m: "
     ]
    }
   ],
   "source": [
    "# Create a progress bar instance for monitoring\n",
    "# progress_bar = tqdm(total=N_STEPS, initial=step, ncols=80, mininterval=1)\n",
    "LOG_EVERY_N = 100\n",
    "\n",
    "# Start iterations\n",
    "while step < N_STEPS + 1:\n",
    "    # Iterate over the dataset\n",
    "    for real_samples, chords in data_loader:\n",
    "        real_samples = real_samples.float()\n",
    "\n",
    "        # Train the neural networks\n",
    "        generator.train()\n",
    "        d_loss, g_loss = train_one_step(d_optimizer, g_optimizer, real_samples, chords)\n",
    "\n",
    "        # Record smoothened loss values to LiveLoss logger\n",
    "        if step > 0:\n",
    "            running_d_loss = 0.05 * d_loss + 0.95 * running_d_loss\n",
    "            running_g_loss = 0.05 * g_loss + 0.95 * running_g_loss\n",
    "        else:\n",
    "            running_d_loss, running_g_loss = 0.0, 0.0\n",
    "        # liveloss.update({'negative_critic_loss': -running_d_loss})\n",
    "        liveloss.update({'d_loss': running_d_loss, 'g_loss': running_g_loss})\n",
    "        \n",
    "        # Update losses to progress bar\n",
    "        # progress_bar.set_description_str(\n",
    "        #     \"(d_loss={: 8.6f}, g_loss={: 8.6f})\".format(d_loss, g_loss))\n",
    "        \n",
    "        if step % SAMPLE_INTERVAL == 0:\n",
    "            # Get generated samples\n",
    "            generator.eval()\n",
    "            samples = generator(sample_latent, sample_chords).cpu().detach().numpy()\n",
    "            history_samples[step] = samples\n",
    "\n",
    "            # Display loss curves\n",
    "            clear_output(True)\n",
    "            if step > 0:\n",
    "                liveloss.send()\n",
    "            \n",
    "            # Display generated samples\n",
    "            samples = np.expand_dims(samples, 1)  # Add fake track dim\n",
    "            samples = samples.reshape(1, -1, N_PITCHES)\n",
    "            pianoroll = np.pad(\n",
    "                samples[0].squeeze() > 0.5,\n",
    "                ((0, 0), (LOWEST_PITCH, 128 - LOWEST_PITCH - N_PITCHES))\n",
    "            )\n",
    "            tracks = [\n",
    "                pypianoroll.Track(\n",
    "                    name=\"MAIN\",\n",
    "                    program=0,\n",
    "                    is_drum=False,\n",
    "                    pianoroll=pianoroll\n",
    "                )\n",
    "            ]\n",
    "            m = pypianoroll.Multitrack(\n",
    "                tracks=tracks,\n",
    "                tempo=tempo_array,\n",
    "                resolution=BEAT_RESOLUTION\n",
    "            )\n",
    "            axs = m.plot()\n",
    "            plt.gcf().set_size_inches((16, 8))\n",
    "            for ax in axs:\n",
    "                for x in range(\n",
    "                    MEASURE_RESOLUTION,\n",
    "                    MEASURE_RESOLUTION * N_MEASURES,\n",
    "                    MEASURE_RESOLUTION\n",
    "                ):\n",
    "                    if x % (MEASURE_RESOLUTION * 4) == 0:\n",
    "                        ax.axvline(x - 0.5, color='k')\n",
    "                    else:\n",
    "                        ax.axvline(x - 0.5, color='k', linestyle='-', linewidth=1)\n",
    "            plt.show()\n",
    "        \n",
    "        if step % LOG_EVERY_N == 0:\n",
    "            print(f\"Step {step} \\t D-loss: {d_loss:.6f} \\t G-loss: {g_loss:.6f}\")\n",
    "            \n",
    "        step += 1\n",
    "        # progress_bar.update(1)\n",
    "        if step >= N_STEPS:\n",
    "            break"
   ]
  },
  {
   "cell_type": "code",
   "execution_count": null,
   "metadata": {},
   "outputs": [],
   "source": []
  }
 ],
 "metadata": {
  "kernelspec": {
   "display_name": "Python 3",
   "language": "python",
   "name": "python3"
  },
  "language_info": {
   "codemirror_mode": {
    "name": "ipython",
    "version": 3
   },
   "file_extension": ".py",
   "mimetype": "text/x-python",
   "name": "python",
   "nbconvert_exporter": "python",
   "pygments_lexer": "ipython3",
   "version": "3.7.9"
  }
 },
 "nbformat": 4,
 "nbformat_minor": 2
}
